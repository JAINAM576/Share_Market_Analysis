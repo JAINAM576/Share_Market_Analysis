{
 "cells": [
  {
   "cell_type": "code",
   "execution_count": 17,
   "metadata": {},
   "outputs": [],
   "source": [
    "import seaborn as sns\n",
    "import numpy as np \n",
    "import matplotlib.pyplot as plt\n",
    "import pandas as pd\n",
    "from nselib import capital_market\n",
    "import plotly.graph_objects as go\n",
    "import plotly.io as pio"
   ]
  },
  {
   "cell_type": "markdown",
   "metadata": {},
   "source": [
    "# PROBLEM \n",
    "\n",
    "- SYMBOL \n",
    "- RANGE - FROM_DATE TO TO_DATE,\n",
    "- FILTER : DAILY ,WEEK,ALGO \n",
    "\n",
    "X: TIME , Y: DeliverableQty\n",
    "\n",
    "EXAMPLE :\n",
    "\n",
    "symbol=\"INFY\"\n",
    "range = \"01-06-2024\" to \"01-07-2024\",\n",
    "suppose:\n",
    "date          DeliverableQty      weekdays\n",
    "\n",
    "01-06-2024          1               Thursday\n",
    "02-06-2024          2               Friday\n",
    "05-06-2024          3               Monday\n",
    "06-06-2024          4               Tuseday\n",
    "07-06-2024          5               Wednesday\n",
    "08-06-2024          6               Thursday\n",
    "09-06-2024          7               Friday \n",
    "....\n",
    "- for daily just plot date as x and  DeliverableQty as y \n",
    "- for week divide in batch \n",
    "\n",
    "like \n",
    "in \n",
    "\n",
    "week                                                                           DeliverableQty\n",
    "\n",
    "WEEK -1   includes: {01-06-2024 ,02-06-2024}                                   DeliverableQty=3 \n",
    "WEEK -2   includes: {05-06-2024 ,06-06-2024,07-06-2024,08-06-2024,09-06-2024}  DeliverableQty=3+4+5+6+7\n",
    "\n",
    "-now plot week as x and DeliverableQty as y\n",
    "\n",
    "\n",
    "# FOR MONTH\n",
    "Month -1 includes :{ start _date to end of  month }   sum of DeliverableQty in this range\n",
    "Month -2 includes : {new_month starting date presents in data to end of month } then sum of DeliverableQty in this range\n",
    "....so on\n",
    "\n",
    "-now plot month as x and DeliverableQty as y\n",
    "\n",
    "\n",
    "same for 2 MONTH ,3 MONTH,...\n"
   ]
  },
  {
   "cell_type": "markdown",
   "metadata": {},
   "source": [
    "# FOR DAILY"
   ]
  },
  {
   "cell_type": "code",
   "execution_count": 2,
   "metadata": {},
   "outputs": [],
   "source": [
    "def give_strctured(dataFrame):\n",
    "   DeliverableQty_numeric=[]\n",
    "   \n",
    "   df=dataFrame.copy()\n",
    "   for i in (df[\"DeliverableQty\"].str.split(\",\")):\n",
    "      DeliverableQty_numeric.append(\"\".join(i))\n",
    "   df[\"DeliverableQty_Numeric\"]=DeliverableQty_numeric\n",
    "   df[\"DeliverableQty_Numeric\"]=df[\"DeliverableQty_Numeric\"].astype(np.int64)\n",
    "   df[\"Date_time\"]=pd.to_datetime(dataFrame[\"Date\"],format=\"%d-%b-%Y\")\n",
    "   df[\"weekday\"]=list(map(lambda x:x.day_name(),df[\"Date_time\"]))\n",
    "\n",
    "   df=df[[\"Symbol\",\"Date_time\",\"DeliverableQty_Numeric\",\"weekday\"]]\n",
    "\n",
    "   return df"
   ]
  },
  {
   "cell_type": "code",
   "execution_count": 3,
   "metadata": {},
   "outputs": [
    {
     "name": "stderr",
     "output_type": "stream",
     "text": [
      "c:\\Users\\Jainam Harsh\\AppData\\Local\\Programs\\Python\\Python311\\Lib\\site-packages\\nselib\\capital_market\\capital_market_data.py:38: FutureWarning: The behavior of DataFrame concatenation with empty or all-NA entries is deprecated. In a future version, this will no longer exclude empty or all-NA columns when determining the result dtypes. To retain the old behavior, exclude the relevant entries before the concat operation.\n",
      "  nse_df = pd.concat([nse_df, data_df], ignore_index=True)\n"
     ]
    }
   ],
   "source": [
    "df=capital_market.price_volume_and_deliverable_position_data(\"INFY\",period='1M')\n"
   ]
  },
  {
   "cell_type": "code",
   "execution_count": 4,
   "metadata": {},
   "outputs": [
    {
     "data": {
      "text/html": [
       "<div>\n",
       "<style scoped>\n",
       "    .dataframe tbody tr th:only-of-type {\n",
       "        vertical-align: middle;\n",
       "    }\n",
       "\n",
       "    .dataframe tbody tr th {\n",
       "        vertical-align: top;\n",
       "    }\n",
       "\n",
       "    .dataframe thead th {\n",
       "        text-align: right;\n",
       "    }\n",
       "</style>\n",
       "<table border=\"1\" class=\"dataframe\">\n",
       "  <thead>\n",
       "    <tr style=\"text-align: right;\">\n",
       "      <th></th>\n",
       "      <th>Symbol</th>\n",
       "      <th>Series</th>\n",
       "      <th>Date</th>\n",
       "      <th>PrevClose</th>\n",
       "      <th>OpenPrice</th>\n",
       "      <th>HighPrice</th>\n",
       "      <th>LowPrice</th>\n",
       "      <th>LastPrice</th>\n",
       "      <th>ClosePrice</th>\n",
       "      <th>AveragePrice</th>\n",
       "      <th>TotalTradedQuantity</th>\n",
       "      <th>TurnoverInRs</th>\n",
       "      <th>No.ofTrades</th>\n",
       "      <th>DeliverableQty</th>\n",
       "      <th>%DlyQttoTradedQty</th>\n",
       "    </tr>\n",
       "  </thead>\n",
       "  <tbody>\n",
       "    <tr>\n",
       "      <th>0</th>\n",
       "      <td>INFY</td>\n",
       "      <td>EQ</td>\n",
       "      <td>18-May-2024</td>\n",
       "      <td>1,444.30</td>\n",
       "      <td>1,445.00</td>\n",
       "      <td>1,450.00</td>\n",
       "      <td>1,442.00</td>\n",
       "      <td>1,444.30</td>\n",
       "      <td>1,443.65</td>\n",
       "      <td>1,445.13</td>\n",
       "      <td>3,18,277</td>\n",
       "      <td>45,99,52,847.90</td>\n",
       "      <td>13,136</td>\n",
       "      <td>2,01,491</td>\n",
       "      <td>63.31</td>\n",
       "    </tr>\n",
       "    <tr>\n",
       "      <th>1</th>\n",
       "      <td>INFY</td>\n",
       "      <td>EQ</td>\n",
       "      <td>21-May-2024</td>\n",
       "      <td>1,443.65</td>\n",
       "      <td>1,430.00</td>\n",
       "      <td>1,444.70</td>\n",
       "      <td>1,428.40</td>\n",
       "      <td>1,435.55</td>\n",
       "      <td>1,434.15</td>\n",
       "      <td>1,435.51</td>\n",
       "      <td>67,52,663</td>\n",
       "      <td>9,69,35,16,261.30</td>\n",
       "      <td>2,04,780</td>\n",
       "      <td>50,85,153</td>\n",
       "      <td>75.31</td>\n",
       "    </tr>\n",
       "    <tr>\n",
       "      <th>2</th>\n",
       "      <td>INFY</td>\n",
       "      <td>EQ</td>\n",
       "      <td>22-May-2024</td>\n",
       "      <td>1,434.15</td>\n",
       "      <td>1,428.75</td>\n",
       "      <td>1,459.95</td>\n",
       "      <td>1,428.00</td>\n",
       "      <td>1,454.20</td>\n",
       "      <td>1,454.80</td>\n",
       "      <td>1,450.92</td>\n",
       "      <td>71,73,285</td>\n",
       "      <td>10,40,78,81,536.70</td>\n",
       "      <td>2,26,692</td>\n",
       "      <td>50,66,600</td>\n",
       "      <td>70.63</td>\n",
       "    </tr>\n",
       "    <tr>\n",
       "      <th>3</th>\n",
       "      <td>INFY</td>\n",
       "      <td>EQ</td>\n",
       "      <td>23-May-2024</td>\n",
       "      <td>1,454.80</td>\n",
       "      <td>1,454.70</td>\n",
       "      <td>1,478.15</td>\n",
       "      <td>1,450.00</td>\n",
       "      <td>1,471.05</td>\n",
       "      <td>1,472.40</td>\n",
       "      <td>1,469.37</td>\n",
       "      <td>86,41,428</td>\n",
       "      <td>12,69,74,20,682.20</td>\n",
       "      <td>3,00,489</td>\n",
       "      <td>46,64,587</td>\n",
       "      <td>53.98</td>\n",
       "    </tr>\n",
       "    <tr>\n",
       "      <th>4</th>\n",
       "      <td>INFY</td>\n",
       "      <td>EQ</td>\n",
       "      <td>24-May-2024</td>\n",
       "      <td>1,472.40</td>\n",
       "      <td>1,468.25</td>\n",
       "      <td>1,475.50</td>\n",
       "      <td>1,460.00</td>\n",
       "      <td>1,462.60</td>\n",
       "      <td>1,465.10</td>\n",
       "      <td>1,467.29</td>\n",
       "      <td>52,77,938</td>\n",
       "      <td>7,74,42,83,255.40</td>\n",
       "      <td>1,73,496</td>\n",
       "      <td>35,35,961</td>\n",
       "      <td>67.00</td>\n",
       "    </tr>\n",
       "    <tr>\n",
       "      <th>5</th>\n",
       "      <td>INFY</td>\n",
       "      <td>EQ</td>\n",
       "      <td>27-May-2024</td>\n",
       "      <td>1,465.10</td>\n",
       "      <td>1,471.85</td>\n",
       "      <td>1,479.60</td>\n",
       "      <td>1,460.25</td>\n",
       "      <td>1,471.00</td>\n",
       "      <td>1,471.35</td>\n",
       "      <td>1,470.82</td>\n",
       "      <td>58,21,844</td>\n",
       "      <td>8,56,28,95,961.60</td>\n",
       "      <td>2,09,335</td>\n",
       "      <td>40,82,361</td>\n",
       "      <td>70.12</td>\n",
       "    </tr>\n",
       "    <tr>\n",
       "      <th>6</th>\n",
       "      <td>INFY</td>\n",
       "      <td>EQ</td>\n",
       "      <td>28-May-2024</td>\n",
       "      <td>1,471.35</td>\n",
       "      <td>1,475.50</td>\n",
       "      <td>1,476.00</td>\n",
       "      <td>1,460.30</td>\n",
       "      <td>1,463.00</td>\n",
       "      <td>1,467.05</td>\n",
       "      <td>1,471.00</td>\n",
       "      <td>61,86,922</td>\n",
       "      <td>9,10,09,58,068.45</td>\n",
       "      <td>1,78,525</td>\n",
       "      <td>47,23,117</td>\n",
       "      <td>76.34</td>\n",
       "    </tr>\n",
       "    <tr>\n",
       "      <th>7</th>\n",
       "      <td>INFY</td>\n",
       "      <td>EQ</td>\n",
       "      <td>29-May-2024</td>\n",
       "      <td>1,467.05</td>\n",
       "      <td>1,465.40</td>\n",
       "      <td>1,465.50</td>\n",
       "      <td>1,450.00</td>\n",
       "      <td>1,455.00</td>\n",
       "      <td>1,450.95</td>\n",
       "      <td>1,454.96</td>\n",
       "      <td>74,01,634</td>\n",
       "      <td>10,76,90,91,064.90</td>\n",
       "      <td>2,45,143</td>\n",
       "      <td>54,85,547</td>\n",
       "      <td>74.11</td>\n",
       "    </tr>\n",
       "    <tr>\n",
       "      <th>8</th>\n",
       "      <td>INFY</td>\n",
       "      <td>EQ</td>\n",
       "      <td>30-May-2024</td>\n",
       "      <td>1,450.95</td>\n",
       "      <td>1,442.80</td>\n",
       "      <td>1,449.85</td>\n",
       "      <td>1,421.55</td>\n",
       "      <td>1,434.95</td>\n",
       "      <td>1,427.45</td>\n",
       "      <td>1,431.84</td>\n",
       "      <td>96,63,150</td>\n",
       "      <td>13,83,61,20,754.00</td>\n",
       "      <td>2,69,401</td>\n",
       "      <td>58,48,165</td>\n",
       "      <td>60.52</td>\n",
       "    </tr>\n",
       "    <tr>\n",
       "      <th>9</th>\n",
       "      <td>INFY</td>\n",
       "      <td>EQ</td>\n",
       "      <td>31-May-2024</td>\n",
       "      <td>1,427.45</td>\n",
       "      <td>1,409.80</td>\n",
       "      <td>1,436.75</td>\n",
       "      <td>1,400.00</td>\n",
       "      <td>1,407.00</td>\n",
       "      <td>1,406.90</td>\n",
       "      <td>1,414.33</td>\n",
       "      <td>3,71,13,815</td>\n",
       "      <td>52,49,12,66,228.35</td>\n",
       "      <td>4,80,522</td>\n",
       "      <td>2,25,66,239</td>\n",
       "      <td>60.80</td>\n",
       "    </tr>\n",
       "    <tr>\n",
       "      <th>10</th>\n",
       "      <td>INFY</td>\n",
       "      <td>EQ</td>\n",
       "      <td>03-Jun-2024</td>\n",
       "      <td>1,406.90</td>\n",
       "      <td>1,440.00</td>\n",
       "      <td>1,440.00</td>\n",
       "      <td>1,404.00</td>\n",
       "      <td>1,408.30</td>\n",
       "      <td>1,405.90</td>\n",
       "      <td>1,410.56</td>\n",
       "      <td>1,05,89,244</td>\n",
       "      <td>14,93,67,54,676.45</td>\n",
       "      <td>2,76,536</td>\n",
       "      <td>79,74,682</td>\n",
       "      <td>75.31</td>\n",
       "    </tr>\n",
       "    <tr>\n",
       "      <th>11</th>\n",
       "      <td>INFY</td>\n",
       "      <td>EQ</td>\n",
       "      <td>04-Jun-2024</td>\n",
       "      <td>1,405.90</td>\n",
       "      <td>1,409.00</td>\n",
       "      <td>1,415.00</td>\n",
       "      <td>1,358.35</td>\n",
       "      <td>1,400.05</td>\n",
       "      <td>1,393.65</td>\n",
       "      <td>1,394.53</td>\n",
       "      <td>1,37,36,134</td>\n",
       "      <td>19,15,54,47,817.95</td>\n",
       "      <td>3,89,770</td>\n",
       "      <td>81,13,166</td>\n",
       "      <td>59.06</td>\n",
       "    </tr>\n",
       "    <tr>\n",
       "      <th>12</th>\n",
       "      <td>INFY</td>\n",
       "      <td>EQ</td>\n",
       "      <td>05-Jun-2024</td>\n",
       "      <td>1,393.65</td>\n",
       "      <td>1,400.15</td>\n",
       "      <td>1,438.00</td>\n",
       "      <td>1,400.15</td>\n",
       "      <td>1,429.95</td>\n",
       "      <td>1,430.10</td>\n",
       "      <td>1,422.55</td>\n",
       "      <td>92,33,424</td>\n",
       "      <td>13,13,50,40,249.80</td>\n",
       "      <td>2,75,273</td>\n",
       "      <td>65,63,777</td>\n",
       "      <td>71.09</td>\n",
       "    </tr>\n",
       "    <tr>\n",
       "      <th>13</th>\n",
       "      <td>INFY</td>\n",
       "      <td>EQ</td>\n",
       "      <td>06-Jun-2024</td>\n",
       "      <td>1,430.10</td>\n",
       "      <td>1,444.95</td>\n",
       "      <td>1,474.30</td>\n",
       "      <td>1,437.50</td>\n",
       "      <td>1,473.00</td>\n",
       "      <td>1,472.25</td>\n",
       "      <td>1,460.72</td>\n",
       "      <td>1,26,60,930</td>\n",
       "      <td>18,49,40,14,220.35</td>\n",
       "      <td>4,27,537</td>\n",
       "      <td>68,44,746</td>\n",
       "      <td>54.06</td>\n",
       "    </tr>\n",
       "    <tr>\n",
       "      <th>14</th>\n",
       "      <td>INFY</td>\n",
       "      <td>EQ</td>\n",
       "      <td>07-Jun-2024</td>\n",
       "      <td>1,472.25</td>\n",
       "      <td>1,481.00</td>\n",
       "      <td>1,539.70</td>\n",
       "      <td>1,477.25</td>\n",
       "      <td>1,531.00</td>\n",
       "      <td>1,533.60</td>\n",
       "      <td>1,523.28</td>\n",
       "      <td>2,40,75,302</td>\n",
       "      <td>36,67,35,07,939.55</td>\n",
       "      <td>6,71,586</td>\n",
       "      <td>1,55,35,234</td>\n",
       "      <td>64.53</td>\n",
       "    </tr>\n",
       "    <tr>\n",
       "      <th>15</th>\n",
       "      <td>INFY</td>\n",
       "      <td>EQ</td>\n",
       "      <td>10-Jun-2024</td>\n",
       "      <td>1,533.60</td>\n",
       "      <td>1,525.30</td>\n",
       "      <td>1,529.80</td>\n",
       "      <td>1,497.30</td>\n",
       "      <td>1,498.10</td>\n",
       "      <td>1,499.75</td>\n",
       "      <td>1,504.76</td>\n",
       "      <td>68,10,606</td>\n",
       "      <td>10,24,83,20,789.20</td>\n",
       "      <td>2,15,749</td>\n",
       "      <td>42,75,279</td>\n",
       "      <td>62.77</td>\n",
       "    </tr>\n",
       "    <tr>\n",
       "      <th>16</th>\n",
       "      <td>INFY</td>\n",
       "      <td>EQ</td>\n",
       "      <td>11-Jun-2024</td>\n",
       "      <td>1,499.75</td>\n",
       "      <td>1,500.05</td>\n",
       "      <td>1,506.45</td>\n",
       "      <td>1,493.95</td>\n",
       "      <td>1,496.00</td>\n",
       "      <td>1,495.75</td>\n",
       "      <td>1,500.46</td>\n",
       "      <td>48,53,054</td>\n",
       "      <td>7,28,17,90,761.15</td>\n",
       "      <td>1,96,731</td>\n",
       "      <td>33,09,314</td>\n",
       "      <td>68.19</td>\n",
       "    </tr>\n",
       "    <tr>\n",
       "      <th>17</th>\n",
       "      <td>INFY</td>\n",
       "      <td>EQ</td>\n",
       "      <td>12-Jun-2024</td>\n",
       "      <td>1,495.75</td>\n",
       "      <td>1,507.00</td>\n",
       "      <td>1,508.75</td>\n",
       "      <td>1,482.75</td>\n",
       "      <td>1,486.40</td>\n",
       "      <td>1,485.20</td>\n",
       "      <td>1,493.28</td>\n",
       "      <td>95,64,320</td>\n",
       "      <td>14,28,22,18,151.55</td>\n",
       "      <td>2,08,574</td>\n",
       "      <td>71,79,724</td>\n",
       "      <td>75.07</td>\n",
       "    </tr>\n",
       "    <tr>\n",
       "      <th>18</th>\n",
       "      <td>INFY</td>\n",
       "      <td>EQ</td>\n",
       "      <td>13-Jun-2024</td>\n",
       "      <td>1,485.20</td>\n",
       "      <td>1,495.00</td>\n",
       "      <td>1,505.00</td>\n",
       "      <td>1,489.35</td>\n",
       "      <td>1,494.00</td>\n",
       "      <td>1,493.95</td>\n",
       "      <td>1,495.78</td>\n",
       "      <td>73,07,565</td>\n",
       "      <td>10,93,05,15,249.65</td>\n",
       "      <td>1,91,937</td>\n",
       "      <td>44,15,299</td>\n",
       "      <td>60.42</td>\n",
       "    </tr>\n",
       "    <tr>\n",
       "      <th>19</th>\n",
       "      <td>INFY</td>\n",
       "      <td>EQ</td>\n",
       "      <td>14-Jun-2024</td>\n",
       "      <td>1,493.95</td>\n",
       "      <td>1,503.70</td>\n",
       "      <td>1,503.70</td>\n",
       "      <td>1,486.05</td>\n",
       "      <td>1,488.50</td>\n",
       "      <td>1,488.90</td>\n",
       "      <td>1,489.97</td>\n",
       "      <td>42,37,727</td>\n",
       "      <td>6,31,40,88,833.20</td>\n",
       "      <td>1,61,152</td>\n",
       "      <td>25,08,255</td>\n",
       "      <td>59.19</td>\n",
       "    </tr>\n",
       "  </tbody>\n",
       "</table>\n",
       "</div>"
      ],
      "text/plain": [
       "   Symbol Series         Date PrevClose OpenPrice HighPrice  LowPrice  \\\n",
       "0    INFY     EQ  18-May-2024  1,444.30  1,445.00  1,450.00  1,442.00   \n",
       "1    INFY     EQ  21-May-2024  1,443.65  1,430.00  1,444.70  1,428.40   \n",
       "2    INFY     EQ  22-May-2024  1,434.15  1,428.75  1,459.95  1,428.00   \n",
       "3    INFY     EQ  23-May-2024  1,454.80  1,454.70  1,478.15  1,450.00   \n",
       "4    INFY     EQ  24-May-2024  1,472.40  1,468.25  1,475.50  1,460.00   \n",
       "5    INFY     EQ  27-May-2024  1,465.10  1,471.85  1,479.60  1,460.25   \n",
       "6    INFY     EQ  28-May-2024  1,471.35  1,475.50  1,476.00  1,460.30   \n",
       "7    INFY     EQ  29-May-2024  1,467.05  1,465.40  1,465.50  1,450.00   \n",
       "8    INFY     EQ  30-May-2024  1,450.95  1,442.80  1,449.85  1,421.55   \n",
       "9    INFY     EQ  31-May-2024  1,427.45  1,409.80  1,436.75  1,400.00   \n",
       "10   INFY     EQ  03-Jun-2024  1,406.90  1,440.00  1,440.00  1,404.00   \n",
       "11   INFY     EQ  04-Jun-2024  1,405.90  1,409.00  1,415.00  1,358.35   \n",
       "12   INFY     EQ  05-Jun-2024  1,393.65  1,400.15  1,438.00  1,400.15   \n",
       "13   INFY     EQ  06-Jun-2024  1,430.10  1,444.95  1,474.30  1,437.50   \n",
       "14   INFY     EQ  07-Jun-2024  1,472.25  1,481.00  1,539.70  1,477.25   \n",
       "15   INFY     EQ  10-Jun-2024  1,533.60  1,525.30  1,529.80  1,497.30   \n",
       "16   INFY     EQ  11-Jun-2024  1,499.75  1,500.05  1,506.45  1,493.95   \n",
       "17   INFY     EQ  12-Jun-2024  1,495.75  1,507.00  1,508.75  1,482.75   \n",
       "18   INFY     EQ  13-Jun-2024  1,485.20  1,495.00  1,505.00  1,489.35   \n",
       "19   INFY     EQ  14-Jun-2024  1,493.95  1,503.70  1,503.70  1,486.05   \n",
       "\n",
       "   LastPrice ClosePrice AveragePrice TotalTradedQuantity        TurnoverInRs  \\\n",
       "0   1,444.30   1,443.65     1,445.13            3,18,277     45,99,52,847.90   \n",
       "1   1,435.55   1,434.15     1,435.51           67,52,663   9,69,35,16,261.30   \n",
       "2   1,454.20   1,454.80     1,450.92           71,73,285  10,40,78,81,536.70   \n",
       "3   1,471.05   1,472.40     1,469.37           86,41,428  12,69,74,20,682.20   \n",
       "4   1,462.60   1,465.10     1,467.29           52,77,938   7,74,42,83,255.40   \n",
       "5   1,471.00   1,471.35     1,470.82           58,21,844   8,56,28,95,961.60   \n",
       "6   1,463.00   1,467.05     1,471.00           61,86,922   9,10,09,58,068.45   \n",
       "7   1,455.00   1,450.95     1,454.96           74,01,634  10,76,90,91,064.90   \n",
       "8   1,434.95   1,427.45     1,431.84           96,63,150  13,83,61,20,754.00   \n",
       "9   1,407.00   1,406.90     1,414.33         3,71,13,815  52,49,12,66,228.35   \n",
       "10  1,408.30   1,405.90     1,410.56         1,05,89,244  14,93,67,54,676.45   \n",
       "11  1,400.05   1,393.65     1,394.53         1,37,36,134  19,15,54,47,817.95   \n",
       "12  1,429.95   1,430.10     1,422.55           92,33,424  13,13,50,40,249.80   \n",
       "13  1,473.00   1,472.25     1,460.72         1,26,60,930  18,49,40,14,220.35   \n",
       "14  1,531.00   1,533.60     1,523.28         2,40,75,302  36,67,35,07,939.55   \n",
       "15  1,498.10   1,499.75     1,504.76           68,10,606  10,24,83,20,789.20   \n",
       "16  1,496.00   1,495.75     1,500.46           48,53,054   7,28,17,90,761.15   \n",
       "17  1,486.40   1,485.20     1,493.28           95,64,320  14,28,22,18,151.55   \n",
       "18  1,494.00   1,493.95     1,495.78           73,07,565  10,93,05,15,249.65   \n",
       "19  1,488.50   1,488.90     1,489.97           42,37,727   6,31,40,88,833.20   \n",
       "\n",
       "   No.ofTrades DeliverableQty  %DlyQttoTradedQty  \n",
       "0       13,136       2,01,491              63.31  \n",
       "1     2,04,780      50,85,153              75.31  \n",
       "2     2,26,692      50,66,600              70.63  \n",
       "3     3,00,489      46,64,587              53.98  \n",
       "4     1,73,496      35,35,961              67.00  \n",
       "5     2,09,335      40,82,361              70.12  \n",
       "6     1,78,525      47,23,117              76.34  \n",
       "7     2,45,143      54,85,547              74.11  \n",
       "8     2,69,401      58,48,165              60.52  \n",
       "9     4,80,522    2,25,66,239              60.80  \n",
       "10    2,76,536      79,74,682              75.31  \n",
       "11    3,89,770      81,13,166              59.06  \n",
       "12    2,75,273      65,63,777              71.09  \n",
       "13    4,27,537      68,44,746              54.06  \n",
       "14    6,71,586    1,55,35,234              64.53  \n",
       "15    2,15,749      42,75,279              62.77  \n",
       "16    1,96,731      33,09,314              68.19  \n",
       "17    2,08,574      71,79,724              75.07  \n",
       "18    1,91,937      44,15,299              60.42  \n",
       "19    1,61,152      25,08,255              59.19  "
      ]
     },
     "execution_count": 4,
     "metadata": {},
     "output_type": "execute_result"
    }
   ],
   "source": [
    "df"
   ]
  },
  {
   "cell_type": "code",
   "execution_count": 5,
   "metadata": {},
   "outputs": [
    {
     "name": "stdout",
     "output_type": "stream",
     "text": [
      "<class 'pandas.core.frame.DataFrame'>\n",
      "RangeIndex: 20 entries, 0 to 19\n",
      "Data columns (total 15 columns):\n",
      " #   Column               Non-Null Count  Dtype  \n",
      "---  ------               --------------  -----  \n",
      " 0   Symbol               20 non-null     object \n",
      " 1   Series               20 non-null     object \n",
      " 2   Date                 20 non-null     object \n",
      " 3   PrevClose            20 non-null     object \n",
      " 4   OpenPrice            20 non-null     object \n",
      " 5   HighPrice            20 non-null     object \n",
      " 6   LowPrice             20 non-null     object \n",
      " 7   LastPrice            20 non-null     object \n",
      " 8   ClosePrice           20 non-null     object \n",
      " 9   AveragePrice         20 non-null     object \n",
      " 10  TotalTradedQuantity  20 non-null     object \n",
      " 11  TurnoverInRs         20 non-null     object \n",
      " 12  No.ofTrades          20 non-null     object \n",
      " 13  DeliverableQty       20 non-null     object \n",
      " 14  %DlyQttoTradedQty    20 non-null     float64\n",
      "dtypes: float64(1), object(14)\n",
      "memory usage: 2.5+ KB\n"
     ]
    }
   ],
   "source": [
    "df.info()"
   ]
  },
  {
   "cell_type": "code",
   "execution_count": 6,
   "metadata": {},
   "outputs": [],
   "source": [
    "new_df=give_strctured(df)"
   ]
  },
  {
   "cell_type": "code",
   "execution_count": 7,
   "metadata": {},
   "outputs": [
    {
     "data": {
      "text/html": [
       "<div>\n",
       "<style scoped>\n",
       "    .dataframe tbody tr th:only-of-type {\n",
       "        vertical-align: middle;\n",
       "    }\n",
       "\n",
       "    .dataframe tbody tr th {\n",
       "        vertical-align: top;\n",
       "    }\n",
       "\n",
       "    .dataframe thead th {\n",
       "        text-align: right;\n",
       "    }\n",
       "</style>\n",
       "<table border=\"1\" class=\"dataframe\">\n",
       "  <thead>\n",
       "    <tr style=\"text-align: right;\">\n",
       "      <th></th>\n",
       "      <th>Symbol</th>\n",
       "      <th>Date_time</th>\n",
       "      <th>DeliverableQty_Numeric</th>\n",
       "      <th>weekday</th>\n",
       "    </tr>\n",
       "  </thead>\n",
       "  <tbody>\n",
       "    <tr>\n",
       "      <th>0</th>\n",
       "      <td>INFY</td>\n",
       "      <td>2024-05-18</td>\n",
       "      <td>201491</td>\n",
       "      <td>Saturday</td>\n",
       "    </tr>\n",
       "    <tr>\n",
       "      <th>1</th>\n",
       "      <td>INFY</td>\n",
       "      <td>2024-05-21</td>\n",
       "      <td>5085153</td>\n",
       "      <td>Tuesday</td>\n",
       "    </tr>\n",
       "    <tr>\n",
       "      <th>2</th>\n",
       "      <td>INFY</td>\n",
       "      <td>2024-05-22</td>\n",
       "      <td>5066600</td>\n",
       "      <td>Wednesday</td>\n",
       "    </tr>\n",
       "    <tr>\n",
       "      <th>3</th>\n",
       "      <td>INFY</td>\n",
       "      <td>2024-05-23</td>\n",
       "      <td>4664587</td>\n",
       "      <td>Thursday</td>\n",
       "    </tr>\n",
       "    <tr>\n",
       "      <th>4</th>\n",
       "      <td>INFY</td>\n",
       "      <td>2024-05-24</td>\n",
       "      <td>3535961</td>\n",
       "      <td>Friday</td>\n",
       "    </tr>\n",
       "    <tr>\n",
       "      <th>5</th>\n",
       "      <td>INFY</td>\n",
       "      <td>2024-05-27</td>\n",
       "      <td>4082361</td>\n",
       "      <td>Monday</td>\n",
       "    </tr>\n",
       "    <tr>\n",
       "      <th>6</th>\n",
       "      <td>INFY</td>\n",
       "      <td>2024-05-28</td>\n",
       "      <td>4723117</td>\n",
       "      <td>Tuesday</td>\n",
       "    </tr>\n",
       "    <tr>\n",
       "      <th>7</th>\n",
       "      <td>INFY</td>\n",
       "      <td>2024-05-29</td>\n",
       "      <td>5485547</td>\n",
       "      <td>Wednesday</td>\n",
       "    </tr>\n",
       "    <tr>\n",
       "      <th>8</th>\n",
       "      <td>INFY</td>\n",
       "      <td>2024-05-30</td>\n",
       "      <td>5848165</td>\n",
       "      <td>Thursday</td>\n",
       "    </tr>\n",
       "    <tr>\n",
       "      <th>9</th>\n",
       "      <td>INFY</td>\n",
       "      <td>2024-05-31</td>\n",
       "      <td>22566239</td>\n",
       "      <td>Friday</td>\n",
       "    </tr>\n",
       "    <tr>\n",
       "      <th>10</th>\n",
       "      <td>INFY</td>\n",
       "      <td>2024-06-03</td>\n",
       "      <td>7974682</td>\n",
       "      <td>Monday</td>\n",
       "    </tr>\n",
       "    <tr>\n",
       "      <th>11</th>\n",
       "      <td>INFY</td>\n",
       "      <td>2024-06-04</td>\n",
       "      <td>8113166</td>\n",
       "      <td>Tuesday</td>\n",
       "    </tr>\n",
       "    <tr>\n",
       "      <th>12</th>\n",
       "      <td>INFY</td>\n",
       "      <td>2024-06-05</td>\n",
       "      <td>6563777</td>\n",
       "      <td>Wednesday</td>\n",
       "    </tr>\n",
       "    <tr>\n",
       "      <th>13</th>\n",
       "      <td>INFY</td>\n",
       "      <td>2024-06-06</td>\n",
       "      <td>6844746</td>\n",
       "      <td>Thursday</td>\n",
       "    </tr>\n",
       "    <tr>\n",
       "      <th>14</th>\n",
       "      <td>INFY</td>\n",
       "      <td>2024-06-07</td>\n",
       "      <td>15535234</td>\n",
       "      <td>Friday</td>\n",
       "    </tr>\n",
       "    <tr>\n",
       "      <th>15</th>\n",
       "      <td>INFY</td>\n",
       "      <td>2024-06-10</td>\n",
       "      <td>4275279</td>\n",
       "      <td>Monday</td>\n",
       "    </tr>\n",
       "    <tr>\n",
       "      <th>16</th>\n",
       "      <td>INFY</td>\n",
       "      <td>2024-06-11</td>\n",
       "      <td>3309314</td>\n",
       "      <td>Tuesday</td>\n",
       "    </tr>\n",
       "    <tr>\n",
       "      <th>17</th>\n",
       "      <td>INFY</td>\n",
       "      <td>2024-06-12</td>\n",
       "      <td>7179724</td>\n",
       "      <td>Wednesday</td>\n",
       "    </tr>\n",
       "    <tr>\n",
       "      <th>18</th>\n",
       "      <td>INFY</td>\n",
       "      <td>2024-06-13</td>\n",
       "      <td>4415299</td>\n",
       "      <td>Thursday</td>\n",
       "    </tr>\n",
       "    <tr>\n",
       "      <th>19</th>\n",
       "      <td>INFY</td>\n",
       "      <td>2024-06-14</td>\n",
       "      <td>2508255</td>\n",
       "      <td>Friday</td>\n",
       "    </tr>\n",
       "  </tbody>\n",
       "</table>\n",
       "</div>"
      ],
      "text/plain": [
       "   Symbol  Date_time  DeliverableQty_Numeric    weekday\n",
       "0    INFY 2024-05-18                  201491   Saturday\n",
       "1    INFY 2024-05-21                 5085153    Tuesday\n",
       "2    INFY 2024-05-22                 5066600  Wednesday\n",
       "3    INFY 2024-05-23                 4664587   Thursday\n",
       "4    INFY 2024-05-24                 3535961     Friday\n",
       "5    INFY 2024-05-27                 4082361     Monday\n",
       "6    INFY 2024-05-28                 4723117    Tuesday\n",
       "7    INFY 2024-05-29                 5485547  Wednesday\n",
       "8    INFY 2024-05-30                 5848165   Thursday\n",
       "9    INFY 2024-05-31                22566239     Friday\n",
       "10   INFY 2024-06-03                 7974682     Monday\n",
       "11   INFY 2024-06-04                 8113166    Tuesday\n",
       "12   INFY 2024-06-05                 6563777  Wednesday\n",
       "13   INFY 2024-06-06                 6844746   Thursday\n",
       "14   INFY 2024-06-07                15535234     Friday\n",
       "15   INFY 2024-06-10                 4275279     Monday\n",
       "16   INFY 2024-06-11                 3309314    Tuesday\n",
       "17   INFY 2024-06-12                 7179724  Wednesday\n",
       "18   INFY 2024-06-13                 4415299   Thursday\n",
       "19   INFY 2024-06-14                 2508255     Friday"
      ]
     },
     "execution_count": 7,
     "metadata": {},
     "output_type": "execute_result"
    }
   ],
   "source": [
    "new_df"
   ]
  },
  {
   "cell_type": "code",
   "execution_count": 8,
   "metadata": {},
   "outputs": [
    {
     "name": "stdout",
     "output_type": "stream",
     "text": [
      "<class 'pandas.core.frame.DataFrame'>\n",
      "RangeIndex: 20 entries, 0 to 19\n",
      "Data columns (total 4 columns):\n",
      " #   Column                  Non-Null Count  Dtype         \n",
      "---  ------                  --------------  -----         \n",
      " 0   Symbol                  20 non-null     object        \n",
      " 1   Date_time               20 non-null     datetime64[ns]\n",
      " 2   DeliverableQty_Numeric  20 non-null     int64         \n",
      " 3   weekday                 20 non-null     object        \n",
      "dtypes: datetime64[ns](1), int64(1), object(2)\n",
      "memory usage: 772.0+ bytes\n"
     ]
    }
   ],
   "source": [
    "new_df.info()"
   ]
  },
  {
   "cell_type": "code",
   "execution_count": 9,
   "metadata": {},
   "outputs": [],
   "source": [
    "x=new_df[\"Date_time\"]\n",
    "y=new_df[\"DeliverableQty_Numeric\"]"
   ]
  },
  {
   "cell_type": "markdown",
   "metadata": {},
   "source": [
    "# FOR DAILY"
   ]
  },
  {
   "cell_type": "code",
   "execution_count": 10,
   "metadata": {},
   "outputs": [
    {
     "data": {
      "application/vnd.plotly.v1+json": {
       "config": {
        "plotlyServerURL": "https://plot.ly"
       },
       "data": [
        {
         "mode": "lines+markers",
         "name": "Deliverable Quantity",
         "type": "scatter",
         "x": [
          "2024-05-18T00:00:00",
          "2024-05-21T00:00:00",
          "2024-05-22T00:00:00",
          "2024-05-23T00:00:00",
          "2024-05-24T00:00:00",
          "2024-05-27T00:00:00",
          "2024-05-28T00:00:00",
          "2024-05-29T00:00:00",
          "2024-05-30T00:00:00",
          "2024-05-31T00:00:00",
          "2024-06-03T00:00:00",
          "2024-06-04T00:00:00",
          "2024-06-05T00:00:00",
          "2024-06-06T00:00:00",
          "2024-06-07T00:00:00",
          "2024-06-10T00:00:00",
          "2024-06-11T00:00:00",
          "2024-06-12T00:00:00",
          "2024-06-13T00:00:00",
          "2024-06-14T00:00:00"
         ],
         "y": [
          201491,
          5085153,
          5066600,
          4664587,
          3535961,
          4082361,
          4723117,
          5485547,
          5848165,
          22566239,
          7974682,
          8113166,
          6563777,
          6844746,
          15535234,
          4275279,
          3309314,
          7179724,
          4415299,
          2508255
         ]
        }
       ],
       "layout": {
        "template": {
         "data": {
          "bar": [
           {
            "error_x": {
             "color": "#2a3f5f"
            },
            "error_y": {
             "color": "#2a3f5f"
            },
            "marker": {
             "line": {
              "color": "#E5ECF6",
              "width": 0.5
             },
             "pattern": {
              "fillmode": "overlay",
              "size": 10,
              "solidity": 0.2
             }
            },
            "type": "bar"
           }
          ],
          "barpolar": [
           {
            "marker": {
             "line": {
              "color": "#E5ECF6",
              "width": 0.5
             },
             "pattern": {
              "fillmode": "overlay",
              "size": 10,
              "solidity": 0.2
             }
            },
            "type": "barpolar"
           }
          ],
          "carpet": [
           {
            "aaxis": {
             "endlinecolor": "#2a3f5f",
             "gridcolor": "white",
             "linecolor": "white",
             "minorgridcolor": "white",
             "startlinecolor": "#2a3f5f"
            },
            "baxis": {
             "endlinecolor": "#2a3f5f",
             "gridcolor": "white",
             "linecolor": "white",
             "minorgridcolor": "white",
             "startlinecolor": "#2a3f5f"
            },
            "type": "carpet"
           }
          ],
          "choropleth": [
           {
            "colorbar": {
             "outlinewidth": 0,
             "ticks": ""
            },
            "type": "choropleth"
           }
          ],
          "contour": [
           {
            "colorbar": {
             "outlinewidth": 0,
             "ticks": ""
            },
            "colorscale": [
             [
              0,
              "#0d0887"
             ],
             [
              0.1111111111111111,
              "#46039f"
             ],
             [
              0.2222222222222222,
              "#7201a8"
             ],
             [
              0.3333333333333333,
              "#9c179e"
             ],
             [
              0.4444444444444444,
              "#bd3786"
             ],
             [
              0.5555555555555556,
              "#d8576b"
             ],
             [
              0.6666666666666666,
              "#ed7953"
             ],
             [
              0.7777777777777778,
              "#fb9f3a"
             ],
             [
              0.8888888888888888,
              "#fdca26"
             ],
             [
              1,
              "#f0f921"
             ]
            ],
            "type": "contour"
           }
          ],
          "contourcarpet": [
           {
            "colorbar": {
             "outlinewidth": 0,
             "ticks": ""
            },
            "type": "contourcarpet"
           }
          ],
          "heatmap": [
           {
            "colorbar": {
             "outlinewidth": 0,
             "ticks": ""
            },
            "colorscale": [
             [
              0,
              "#0d0887"
             ],
             [
              0.1111111111111111,
              "#46039f"
             ],
             [
              0.2222222222222222,
              "#7201a8"
             ],
             [
              0.3333333333333333,
              "#9c179e"
             ],
             [
              0.4444444444444444,
              "#bd3786"
             ],
             [
              0.5555555555555556,
              "#d8576b"
             ],
             [
              0.6666666666666666,
              "#ed7953"
             ],
             [
              0.7777777777777778,
              "#fb9f3a"
             ],
             [
              0.8888888888888888,
              "#fdca26"
             ],
             [
              1,
              "#f0f921"
             ]
            ],
            "type": "heatmap"
           }
          ],
          "heatmapgl": [
           {
            "colorbar": {
             "outlinewidth": 0,
             "ticks": ""
            },
            "colorscale": [
             [
              0,
              "#0d0887"
             ],
             [
              0.1111111111111111,
              "#46039f"
             ],
             [
              0.2222222222222222,
              "#7201a8"
             ],
             [
              0.3333333333333333,
              "#9c179e"
             ],
             [
              0.4444444444444444,
              "#bd3786"
             ],
             [
              0.5555555555555556,
              "#d8576b"
             ],
             [
              0.6666666666666666,
              "#ed7953"
             ],
             [
              0.7777777777777778,
              "#fb9f3a"
             ],
             [
              0.8888888888888888,
              "#fdca26"
             ],
             [
              1,
              "#f0f921"
             ]
            ],
            "type": "heatmapgl"
           }
          ],
          "histogram": [
           {
            "marker": {
             "pattern": {
              "fillmode": "overlay",
              "size": 10,
              "solidity": 0.2
             }
            },
            "type": "histogram"
           }
          ],
          "histogram2d": [
           {
            "colorbar": {
             "outlinewidth": 0,
             "ticks": ""
            },
            "colorscale": [
             [
              0,
              "#0d0887"
             ],
             [
              0.1111111111111111,
              "#46039f"
             ],
             [
              0.2222222222222222,
              "#7201a8"
             ],
             [
              0.3333333333333333,
              "#9c179e"
             ],
             [
              0.4444444444444444,
              "#bd3786"
             ],
             [
              0.5555555555555556,
              "#d8576b"
             ],
             [
              0.6666666666666666,
              "#ed7953"
             ],
             [
              0.7777777777777778,
              "#fb9f3a"
             ],
             [
              0.8888888888888888,
              "#fdca26"
             ],
             [
              1,
              "#f0f921"
             ]
            ],
            "type": "histogram2d"
           }
          ],
          "histogram2dcontour": [
           {
            "colorbar": {
             "outlinewidth": 0,
             "ticks": ""
            },
            "colorscale": [
             [
              0,
              "#0d0887"
             ],
             [
              0.1111111111111111,
              "#46039f"
             ],
             [
              0.2222222222222222,
              "#7201a8"
             ],
             [
              0.3333333333333333,
              "#9c179e"
             ],
             [
              0.4444444444444444,
              "#bd3786"
             ],
             [
              0.5555555555555556,
              "#d8576b"
             ],
             [
              0.6666666666666666,
              "#ed7953"
             ],
             [
              0.7777777777777778,
              "#fb9f3a"
             ],
             [
              0.8888888888888888,
              "#fdca26"
             ],
             [
              1,
              "#f0f921"
             ]
            ],
            "type": "histogram2dcontour"
           }
          ],
          "mesh3d": [
           {
            "colorbar": {
             "outlinewidth": 0,
             "ticks": ""
            },
            "type": "mesh3d"
           }
          ],
          "parcoords": [
           {
            "line": {
             "colorbar": {
              "outlinewidth": 0,
              "ticks": ""
             }
            },
            "type": "parcoords"
           }
          ],
          "pie": [
           {
            "automargin": true,
            "type": "pie"
           }
          ],
          "scatter": [
           {
            "fillpattern": {
             "fillmode": "overlay",
             "size": 10,
             "solidity": 0.2
            },
            "type": "scatter"
           }
          ],
          "scatter3d": [
           {
            "line": {
             "colorbar": {
              "outlinewidth": 0,
              "ticks": ""
             }
            },
            "marker": {
             "colorbar": {
              "outlinewidth": 0,
              "ticks": ""
             }
            },
            "type": "scatter3d"
           }
          ],
          "scattercarpet": [
           {
            "marker": {
             "colorbar": {
              "outlinewidth": 0,
              "ticks": ""
             }
            },
            "type": "scattercarpet"
           }
          ],
          "scattergeo": [
           {
            "marker": {
             "colorbar": {
              "outlinewidth": 0,
              "ticks": ""
             }
            },
            "type": "scattergeo"
           }
          ],
          "scattergl": [
           {
            "marker": {
             "colorbar": {
              "outlinewidth": 0,
              "ticks": ""
             }
            },
            "type": "scattergl"
           }
          ],
          "scattermapbox": [
           {
            "marker": {
             "colorbar": {
              "outlinewidth": 0,
              "ticks": ""
             }
            },
            "type": "scattermapbox"
           }
          ],
          "scatterpolar": [
           {
            "marker": {
             "colorbar": {
              "outlinewidth": 0,
              "ticks": ""
             }
            },
            "type": "scatterpolar"
           }
          ],
          "scatterpolargl": [
           {
            "marker": {
             "colorbar": {
              "outlinewidth": 0,
              "ticks": ""
             }
            },
            "type": "scatterpolargl"
           }
          ],
          "scatterternary": [
           {
            "marker": {
             "colorbar": {
              "outlinewidth": 0,
              "ticks": ""
             }
            },
            "type": "scatterternary"
           }
          ],
          "surface": [
           {
            "colorbar": {
             "outlinewidth": 0,
             "ticks": ""
            },
            "colorscale": [
             [
              0,
              "#0d0887"
             ],
             [
              0.1111111111111111,
              "#46039f"
             ],
             [
              0.2222222222222222,
              "#7201a8"
             ],
             [
              0.3333333333333333,
              "#9c179e"
             ],
             [
              0.4444444444444444,
              "#bd3786"
             ],
             [
              0.5555555555555556,
              "#d8576b"
             ],
             [
              0.6666666666666666,
              "#ed7953"
             ],
             [
              0.7777777777777778,
              "#fb9f3a"
             ],
             [
              0.8888888888888888,
              "#fdca26"
             ],
             [
              1,
              "#f0f921"
             ]
            ],
            "type": "surface"
           }
          ],
          "table": [
           {
            "cells": {
             "fill": {
              "color": "#EBF0F8"
             },
             "line": {
              "color": "white"
             }
            },
            "header": {
             "fill": {
              "color": "#C8D4E3"
             },
             "line": {
              "color": "white"
             }
            },
            "type": "table"
           }
          ]
         },
         "layout": {
          "annotationdefaults": {
           "arrowcolor": "#2a3f5f",
           "arrowhead": 0,
           "arrowwidth": 1
          },
          "autotypenumbers": "strict",
          "coloraxis": {
           "colorbar": {
            "outlinewidth": 0,
            "ticks": ""
           }
          },
          "colorscale": {
           "diverging": [
            [
             0,
             "#8e0152"
            ],
            [
             0.1,
             "#c51b7d"
            ],
            [
             0.2,
             "#de77ae"
            ],
            [
             0.3,
             "#f1b6da"
            ],
            [
             0.4,
             "#fde0ef"
            ],
            [
             0.5,
             "#f7f7f7"
            ],
            [
             0.6,
             "#e6f5d0"
            ],
            [
             0.7,
             "#b8e186"
            ],
            [
             0.8,
             "#7fbc41"
            ],
            [
             0.9,
             "#4d9221"
            ],
            [
             1,
             "#276419"
            ]
           ],
           "sequential": [
            [
             0,
             "#0d0887"
            ],
            [
             0.1111111111111111,
             "#46039f"
            ],
            [
             0.2222222222222222,
             "#7201a8"
            ],
            [
             0.3333333333333333,
             "#9c179e"
            ],
            [
             0.4444444444444444,
             "#bd3786"
            ],
            [
             0.5555555555555556,
             "#d8576b"
            ],
            [
             0.6666666666666666,
             "#ed7953"
            ],
            [
             0.7777777777777778,
             "#fb9f3a"
            ],
            [
             0.8888888888888888,
             "#fdca26"
            ],
            [
             1,
             "#f0f921"
            ]
           ],
           "sequentialminus": [
            [
             0,
             "#0d0887"
            ],
            [
             0.1111111111111111,
             "#46039f"
            ],
            [
             0.2222222222222222,
             "#7201a8"
            ],
            [
             0.3333333333333333,
             "#9c179e"
            ],
            [
             0.4444444444444444,
             "#bd3786"
            ],
            [
             0.5555555555555556,
             "#d8576b"
            ],
            [
             0.6666666666666666,
             "#ed7953"
            ],
            [
             0.7777777777777778,
             "#fb9f3a"
            ],
            [
             0.8888888888888888,
             "#fdca26"
            ],
            [
             1,
             "#f0f921"
            ]
           ]
          },
          "colorway": [
           "#636efa",
           "#EF553B",
           "#00cc96",
           "#ab63fa",
           "#FFA15A",
           "#19d3f3",
           "#FF6692",
           "#B6E880",
           "#FF97FF",
           "#FECB52"
          ],
          "font": {
           "color": "#2a3f5f"
          },
          "geo": {
           "bgcolor": "white",
           "lakecolor": "white",
           "landcolor": "#E5ECF6",
           "showlakes": true,
           "showland": true,
           "subunitcolor": "white"
          },
          "hoverlabel": {
           "align": "left"
          },
          "hovermode": "closest",
          "mapbox": {
           "style": "light"
          },
          "paper_bgcolor": "white",
          "plot_bgcolor": "#E5ECF6",
          "polar": {
           "angularaxis": {
            "gridcolor": "white",
            "linecolor": "white",
            "ticks": ""
           },
           "bgcolor": "#E5ECF6",
           "radialaxis": {
            "gridcolor": "white",
            "linecolor": "white",
            "ticks": ""
           }
          },
          "scene": {
           "xaxis": {
            "backgroundcolor": "#E5ECF6",
            "gridcolor": "white",
            "gridwidth": 2,
            "linecolor": "white",
            "showbackground": true,
            "ticks": "",
            "zerolinecolor": "white"
           },
           "yaxis": {
            "backgroundcolor": "#E5ECF6",
            "gridcolor": "white",
            "gridwidth": 2,
            "linecolor": "white",
            "showbackground": true,
            "ticks": "",
            "zerolinecolor": "white"
           },
           "zaxis": {
            "backgroundcolor": "#E5ECF6",
            "gridcolor": "white",
            "gridwidth": 2,
            "linecolor": "white",
            "showbackground": true,
            "ticks": "",
            "zerolinecolor": "white"
           }
          },
          "shapedefaults": {
           "line": {
            "color": "#2a3f5f"
           }
          },
          "ternary": {
           "aaxis": {
            "gridcolor": "white",
            "linecolor": "white",
            "ticks": ""
           },
           "baxis": {
            "gridcolor": "white",
            "linecolor": "white",
            "ticks": ""
           },
           "bgcolor": "#E5ECF6",
           "caxis": {
            "gridcolor": "white",
            "linecolor": "white",
            "ticks": ""
           }
          },
          "title": {
           "x": 0.05
          },
          "xaxis": {
           "automargin": true,
           "gridcolor": "white",
           "linecolor": "white",
           "ticks": "",
           "title": {
            "standoff": 15
           },
           "zerolinecolor": "white",
           "zerolinewidth": 2
          },
          "yaxis": {
           "automargin": true,
           "gridcolor": "white",
           "linecolor": "white",
           "ticks": "",
           "title": {
            "standoff": 15
           },
           "zerolinecolor": "white",
           "zerolinewidth": 2
          }
         }
        },
        "title": {
         "text": "Line Plot of Deliverable Quantity Over Time"
        },
        "width": 800,
        "xaxis": {
         "title": {
          "text": "Date"
         }
        },
        "yaxis": {
         "title": {
          "text": "Deliverable Quantity"
         }
        }
       }
      }
     },
     "metadata": {},
     "output_type": "display_data"
    }
   ],
   "source": [
    "fig = go.Figure()\n",
    "\n",
    "\n",
    "fig.add_trace(go.Scatter(x=x, y=y, mode='lines+markers', name='Deliverable Quantity'))\n",
    "\n",
    "fig.update_layout(\n",
    "    title='Line Plot of Deliverable Quantity Over Time',\n",
    "    xaxis_title='Date',\n",
    "    yaxis_title='Deliverable Quantity',\n",
    "    template='plotly',\n",
    "    width=800\n",
    ")\n",
    "\n",
    "\n",
    "fig.show()"
   ]
  },
  {
   "cell_type": "markdown",
   "metadata": {},
   "source": [
    "# FOR WEEK"
   ]
  },
  {
   "cell_type": "markdown",
   "metadata": {},
   "source": []
  },
  {
   "cell_type": "code",
   "execution_count": 14,
   "metadata": {},
   "outputs": [],
   "source": [
    "def get_week(dataFrame):\n",
    "    week_dict={}\n",
    "    week=1\n",
    "    sum=0\n",
    "    for i in range(dataFrame.shape[0]):\n",
    "        date=dataFrame.loc[i,\"weekday\"]\n",
    "        val=dataFrame.loc[i,\"DeliverableQty_Numeric\"]\n",
    "\n",
    "        if (date==\"Friday\"):\n",
    "            sum+=val\n",
    "            week_dict.update({f\"week{week}\":sum})\n",
    "            week+=1\n",
    "            sum=0\n",
    "        elif (date==\"Saturday\"):\n",
    "            continue\n",
    "        else:\n",
    "            sum+=val\n",
    "    return (list(week_dict.keys()),list(week_dict.values()))"
   ]
  },
  {
   "cell_type": "code",
   "execution_count": 15,
   "metadata": {},
   "outputs": [
    {
     "name": "stdout",
     "output_type": "stream",
     "text": [
      "['week1', 'week2', 'week3', 'week4']\n"
     ]
    }
   ],
   "source": [
    "x,y=get_week(new_df)\n",
    "print(x)"
   ]
  },
  {
   "cell_type": "code",
   "execution_count": 16,
   "metadata": {},
   "outputs": [
    {
     "data": {
      "application/vnd.plotly.v1+json": {
       "config": {
        "plotlyServerURL": "https://plot.ly"
       },
       "data": [
        {
         "mode": "lines+markers",
         "name": "Deliverable Quantity",
         "type": "scatter",
         "x": [
          "week1",
          "week2",
          "week3",
          "week4"
         ],
         "y": [
          18352301,
          42705429,
          45031605,
          21687871
         ]
        }
       ],
       "layout": {
        "template": {
         "data": {
          "bar": [
           {
            "error_x": {
             "color": "#2a3f5f"
            },
            "error_y": {
             "color": "#2a3f5f"
            },
            "marker": {
             "line": {
              "color": "#E5ECF6",
              "width": 0.5
             },
             "pattern": {
              "fillmode": "overlay",
              "size": 10,
              "solidity": 0.2
             }
            },
            "type": "bar"
           }
          ],
          "barpolar": [
           {
            "marker": {
             "line": {
              "color": "#E5ECF6",
              "width": 0.5
             },
             "pattern": {
              "fillmode": "overlay",
              "size": 10,
              "solidity": 0.2
             }
            },
            "type": "barpolar"
           }
          ],
          "carpet": [
           {
            "aaxis": {
             "endlinecolor": "#2a3f5f",
             "gridcolor": "white",
             "linecolor": "white",
             "minorgridcolor": "white",
             "startlinecolor": "#2a3f5f"
            },
            "baxis": {
             "endlinecolor": "#2a3f5f",
             "gridcolor": "white",
             "linecolor": "white",
             "minorgridcolor": "white",
             "startlinecolor": "#2a3f5f"
            },
            "type": "carpet"
           }
          ],
          "choropleth": [
           {
            "colorbar": {
             "outlinewidth": 0,
             "ticks": ""
            },
            "type": "choropleth"
           }
          ],
          "contour": [
           {
            "colorbar": {
             "outlinewidth": 0,
             "ticks": ""
            },
            "colorscale": [
             [
              0,
              "#0d0887"
             ],
             [
              0.1111111111111111,
              "#46039f"
             ],
             [
              0.2222222222222222,
              "#7201a8"
             ],
             [
              0.3333333333333333,
              "#9c179e"
             ],
             [
              0.4444444444444444,
              "#bd3786"
             ],
             [
              0.5555555555555556,
              "#d8576b"
             ],
             [
              0.6666666666666666,
              "#ed7953"
             ],
             [
              0.7777777777777778,
              "#fb9f3a"
             ],
             [
              0.8888888888888888,
              "#fdca26"
             ],
             [
              1,
              "#f0f921"
             ]
            ],
            "type": "contour"
           }
          ],
          "contourcarpet": [
           {
            "colorbar": {
             "outlinewidth": 0,
             "ticks": ""
            },
            "type": "contourcarpet"
           }
          ],
          "heatmap": [
           {
            "colorbar": {
             "outlinewidth": 0,
             "ticks": ""
            },
            "colorscale": [
             [
              0,
              "#0d0887"
             ],
             [
              0.1111111111111111,
              "#46039f"
             ],
             [
              0.2222222222222222,
              "#7201a8"
             ],
             [
              0.3333333333333333,
              "#9c179e"
             ],
             [
              0.4444444444444444,
              "#bd3786"
             ],
             [
              0.5555555555555556,
              "#d8576b"
             ],
             [
              0.6666666666666666,
              "#ed7953"
             ],
             [
              0.7777777777777778,
              "#fb9f3a"
             ],
             [
              0.8888888888888888,
              "#fdca26"
             ],
             [
              1,
              "#f0f921"
             ]
            ],
            "type": "heatmap"
           }
          ],
          "heatmapgl": [
           {
            "colorbar": {
             "outlinewidth": 0,
             "ticks": ""
            },
            "colorscale": [
             [
              0,
              "#0d0887"
             ],
             [
              0.1111111111111111,
              "#46039f"
             ],
             [
              0.2222222222222222,
              "#7201a8"
             ],
             [
              0.3333333333333333,
              "#9c179e"
             ],
             [
              0.4444444444444444,
              "#bd3786"
             ],
             [
              0.5555555555555556,
              "#d8576b"
             ],
             [
              0.6666666666666666,
              "#ed7953"
             ],
             [
              0.7777777777777778,
              "#fb9f3a"
             ],
             [
              0.8888888888888888,
              "#fdca26"
             ],
             [
              1,
              "#f0f921"
             ]
            ],
            "type": "heatmapgl"
           }
          ],
          "histogram": [
           {
            "marker": {
             "pattern": {
              "fillmode": "overlay",
              "size": 10,
              "solidity": 0.2
             }
            },
            "type": "histogram"
           }
          ],
          "histogram2d": [
           {
            "colorbar": {
             "outlinewidth": 0,
             "ticks": ""
            },
            "colorscale": [
             [
              0,
              "#0d0887"
             ],
             [
              0.1111111111111111,
              "#46039f"
             ],
             [
              0.2222222222222222,
              "#7201a8"
             ],
             [
              0.3333333333333333,
              "#9c179e"
             ],
             [
              0.4444444444444444,
              "#bd3786"
             ],
             [
              0.5555555555555556,
              "#d8576b"
             ],
             [
              0.6666666666666666,
              "#ed7953"
             ],
             [
              0.7777777777777778,
              "#fb9f3a"
             ],
             [
              0.8888888888888888,
              "#fdca26"
             ],
             [
              1,
              "#f0f921"
             ]
            ],
            "type": "histogram2d"
           }
          ],
          "histogram2dcontour": [
           {
            "colorbar": {
             "outlinewidth": 0,
             "ticks": ""
            },
            "colorscale": [
             [
              0,
              "#0d0887"
             ],
             [
              0.1111111111111111,
              "#46039f"
             ],
             [
              0.2222222222222222,
              "#7201a8"
             ],
             [
              0.3333333333333333,
              "#9c179e"
             ],
             [
              0.4444444444444444,
              "#bd3786"
             ],
             [
              0.5555555555555556,
              "#d8576b"
             ],
             [
              0.6666666666666666,
              "#ed7953"
             ],
             [
              0.7777777777777778,
              "#fb9f3a"
             ],
             [
              0.8888888888888888,
              "#fdca26"
             ],
             [
              1,
              "#f0f921"
             ]
            ],
            "type": "histogram2dcontour"
           }
          ],
          "mesh3d": [
           {
            "colorbar": {
             "outlinewidth": 0,
             "ticks": ""
            },
            "type": "mesh3d"
           }
          ],
          "parcoords": [
           {
            "line": {
             "colorbar": {
              "outlinewidth": 0,
              "ticks": ""
             }
            },
            "type": "parcoords"
           }
          ],
          "pie": [
           {
            "automargin": true,
            "type": "pie"
           }
          ],
          "scatter": [
           {
            "fillpattern": {
             "fillmode": "overlay",
             "size": 10,
             "solidity": 0.2
            },
            "type": "scatter"
           }
          ],
          "scatter3d": [
           {
            "line": {
             "colorbar": {
              "outlinewidth": 0,
              "ticks": ""
             }
            },
            "marker": {
             "colorbar": {
              "outlinewidth": 0,
              "ticks": ""
             }
            },
            "type": "scatter3d"
           }
          ],
          "scattercarpet": [
           {
            "marker": {
             "colorbar": {
              "outlinewidth": 0,
              "ticks": ""
             }
            },
            "type": "scattercarpet"
           }
          ],
          "scattergeo": [
           {
            "marker": {
             "colorbar": {
              "outlinewidth": 0,
              "ticks": ""
             }
            },
            "type": "scattergeo"
           }
          ],
          "scattergl": [
           {
            "marker": {
             "colorbar": {
              "outlinewidth": 0,
              "ticks": ""
             }
            },
            "type": "scattergl"
           }
          ],
          "scattermapbox": [
           {
            "marker": {
             "colorbar": {
              "outlinewidth": 0,
              "ticks": ""
             }
            },
            "type": "scattermapbox"
           }
          ],
          "scatterpolar": [
           {
            "marker": {
             "colorbar": {
              "outlinewidth": 0,
              "ticks": ""
             }
            },
            "type": "scatterpolar"
           }
          ],
          "scatterpolargl": [
           {
            "marker": {
             "colorbar": {
              "outlinewidth": 0,
              "ticks": ""
             }
            },
            "type": "scatterpolargl"
           }
          ],
          "scatterternary": [
           {
            "marker": {
             "colorbar": {
              "outlinewidth": 0,
              "ticks": ""
             }
            },
            "type": "scatterternary"
           }
          ],
          "surface": [
           {
            "colorbar": {
             "outlinewidth": 0,
             "ticks": ""
            },
            "colorscale": [
             [
              0,
              "#0d0887"
             ],
             [
              0.1111111111111111,
              "#46039f"
             ],
             [
              0.2222222222222222,
              "#7201a8"
             ],
             [
              0.3333333333333333,
              "#9c179e"
             ],
             [
              0.4444444444444444,
              "#bd3786"
             ],
             [
              0.5555555555555556,
              "#d8576b"
             ],
             [
              0.6666666666666666,
              "#ed7953"
             ],
             [
              0.7777777777777778,
              "#fb9f3a"
             ],
             [
              0.8888888888888888,
              "#fdca26"
             ],
             [
              1,
              "#f0f921"
             ]
            ],
            "type": "surface"
           }
          ],
          "table": [
           {
            "cells": {
             "fill": {
              "color": "#EBF0F8"
             },
             "line": {
              "color": "white"
             }
            },
            "header": {
             "fill": {
              "color": "#C8D4E3"
             },
             "line": {
              "color": "white"
             }
            },
            "type": "table"
           }
          ]
         },
         "layout": {
          "annotationdefaults": {
           "arrowcolor": "#2a3f5f",
           "arrowhead": 0,
           "arrowwidth": 1
          },
          "autotypenumbers": "strict",
          "coloraxis": {
           "colorbar": {
            "outlinewidth": 0,
            "ticks": ""
           }
          },
          "colorscale": {
           "diverging": [
            [
             0,
             "#8e0152"
            ],
            [
             0.1,
             "#c51b7d"
            ],
            [
             0.2,
             "#de77ae"
            ],
            [
             0.3,
             "#f1b6da"
            ],
            [
             0.4,
             "#fde0ef"
            ],
            [
             0.5,
             "#f7f7f7"
            ],
            [
             0.6,
             "#e6f5d0"
            ],
            [
             0.7,
             "#b8e186"
            ],
            [
             0.8,
             "#7fbc41"
            ],
            [
             0.9,
             "#4d9221"
            ],
            [
             1,
             "#276419"
            ]
           ],
           "sequential": [
            [
             0,
             "#0d0887"
            ],
            [
             0.1111111111111111,
             "#46039f"
            ],
            [
             0.2222222222222222,
             "#7201a8"
            ],
            [
             0.3333333333333333,
             "#9c179e"
            ],
            [
             0.4444444444444444,
             "#bd3786"
            ],
            [
             0.5555555555555556,
             "#d8576b"
            ],
            [
             0.6666666666666666,
             "#ed7953"
            ],
            [
             0.7777777777777778,
             "#fb9f3a"
            ],
            [
             0.8888888888888888,
             "#fdca26"
            ],
            [
             1,
             "#f0f921"
            ]
           ],
           "sequentialminus": [
            [
             0,
             "#0d0887"
            ],
            [
             0.1111111111111111,
             "#46039f"
            ],
            [
             0.2222222222222222,
             "#7201a8"
            ],
            [
             0.3333333333333333,
             "#9c179e"
            ],
            [
             0.4444444444444444,
             "#bd3786"
            ],
            [
             0.5555555555555556,
             "#d8576b"
            ],
            [
             0.6666666666666666,
             "#ed7953"
            ],
            [
             0.7777777777777778,
             "#fb9f3a"
            ],
            [
             0.8888888888888888,
             "#fdca26"
            ],
            [
             1,
             "#f0f921"
            ]
           ]
          },
          "colorway": [
           "#636efa",
           "#EF553B",
           "#00cc96",
           "#ab63fa",
           "#FFA15A",
           "#19d3f3",
           "#FF6692",
           "#B6E880",
           "#FF97FF",
           "#FECB52"
          ],
          "font": {
           "color": "#2a3f5f"
          },
          "geo": {
           "bgcolor": "white",
           "lakecolor": "white",
           "landcolor": "#E5ECF6",
           "showlakes": true,
           "showland": true,
           "subunitcolor": "white"
          },
          "hoverlabel": {
           "align": "left"
          },
          "hovermode": "closest",
          "mapbox": {
           "style": "light"
          },
          "paper_bgcolor": "white",
          "plot_bgcolor": "#E5ECF6",
          "polar": {
           "angularaxis": {
            "gridcolor": "white",
            "linecolor": "white",
            "ticks": ""
           },
           "bgcolor": "#E5ECF6",
           "radialaxis": {
            "gridcolor": "white",
            "linecolor": "white",
            "ticks": ""
           }
          },
          "scene": {
           "xaxis": {
            "backgroundcolor": "#E5ECF6",
            "gridcolor": "white",
            "gridwidth": 2,
            "linecolor": "white",
            "showbackground": true,
            "ticks": "",
            "zerolinecolor": "white"
           },
           "yaxis": {
            "backgroundcolor": "#E5ECF6",
            "gridcolor": "white",
            "gridwidth": 2,
            "linecolor": "white",
            "showbackground": true,
            "ticks": "",
            "zerolinecolor": "white"
           },
           "zaxis": {
            "backgroundcolor": "#E5ECF6",
            "gridcolor": "white",
            "gridwidth": 2,
            "linecolor": "white",
            "showbackground": true,
            "ticks": "",
            "zerolinecolor": "white"
           }
          },
          "shapedefaults": {
           "line": {
            "color": "#2a3f5f"
           }
          },
          "ternary": {
           "aaxis": {
            "gridcolor": "white",
            "linecolor": "white",
            "ticks": ""
           },
           "baxis": {
            "gridcolor": "white",
            "linecolor": "white",
            "ticks": ""
           },
           "bgcolor": "#E5ECF6",
           "caxis": {
            "gridcolor": "white",
            "linecolor": "white",
            "ticks": ""
           }
          },
          "title": {
           "x": 0.05
          },
          "xaxis": {
           "automargin": true,
           "gridcolor": "white",
           "linecolor": "white",
           "ticks": "",
           "title": {
            "standoff": 15
           },
           "zerolinecolor": "white",
           "zerolinewidth": 2
          },
          "yaxis": {
           "automargin": true,
           "gridcolor": "white",
           "linecolor": "white",
           "ticks": "",
           "title": {
            "standoff": 15
           },
           "zerolinecolor": "white",
           "zerolinewidth": 2
          }
         }
        },
        "title": {
         "text": "Line Plot of Deliverable Quantity Over Time"
        },
        "width": 800,
        "xaxis": {
         "title": {
          "text": "Date"
         }
        },
        "yaxis": {
         "title": {
          "text": "Deliverable Quantity"
         }
        }
       }
      }
     },
     "metadata": {},
     "output_type": "display_data"
    }
   ],
   "source": [
    "fig = go.Figure()\n",
    "\n",
    "\n",
    "fig.add_trace(go.Scatter(x=x, y=y, mode='lines+markers', name='Deliverable Quantity'))\n",
    "\n",
    "fig.update_layout(\n",
    "    title='Line Plot of Deliverable Quantity Over Time',\n",
    "    xaxis_title='Date',\n",
    "    yaxis_title='Deliverable Quantity',\n",
    "    template='plotly',\n",
    "    width=800\n",
    ")\n",
    "\n",
    "\n",
    "fig.show()"
   ]
  },
  {
   "cell_type": "markdown",
   "metadata": {},
   "source": [
    "# BAR CHART"
   ]
  },
  {
   "cell_type": "code",
   "execution_count": 18,
   "metadata": {},
   "outputs": [
    {
     "data": {
      "application/vnd.plotly.v1+json": {
       "config": {
        "plotlyServerURL": "https://plot.ly"
       },
       "data": [
        {
         "type": "bar",
         "x": [
          "week1",
          "week2",
          "week3",
          "week4"
         ],
         "y": [
          18352301,
          42705429,
          45031605,
          21687871
         ]
        }
       ],
       "layout": {
        "template": {
         "data": {
          "bar": [
           {
            "error_x": {
             "color": "#2a3f5f"
            },
            "error_y": {
             "color": "#2a3f5f"
            },
            "marker": {
             "line": {
              "color": "#E5ECF6",
              "width": 0.5
             },
             "pattern": {
              "fillmode": "overlay",
              "size": 10,
              "solidity": 0.2
             }
            },
            "type": "bar"
           }
          ],
          "barpolar": [
           {
            "marker": {
             "line": {
              "color": "#E5ECF6",
              "width": 0.5
             },
             "pattern": {
              "fillmode": "overlay",
              "size": 10,
              "solidity": 0.2
             }
            },
            "type": "barpolar"
           }
          ],
          "carpet": [
           {
            "aaxis": {
             "endlinecolor": "#2a3f5f",
             "gridcolor": "white",
             "linecolor": "white",
             "minorgridcolor": "white",
             "startlinecolor": "#2a3f5f"
            },
            "baxis": {
             "endlinecolor": "#2a3f5f",
             "gridcolor": "white",
             "linecolor": "white",
             "minorgridcolor": "white",
             "startlinecolor": "#2a3f5f"
            },
            "type": "carpet"
           }
          ],
          "choropleth": [
           {
            "colorbar": {
             "outlinewidth": 0,
             "ticks": ""
            },
            "type": "choropleth"
           }
          ],
          "contour": [
           {
            "colorbar": {
             "outlinewidth": 0,
             "ticks": ""
            },
            "colorscale": [
             [
              0,
              "#0d0887"
             ],
             [
              0.1111111111111111,
              "#46039f"
             ],
             [
              0.2222222222222222,
              "#7201a8"
             ],
             [
              0.3333333333333333,
              "#9c179e"
             ],
             [
              0.4444444444444444,
              "#bd3786"
             ],
             [
              0.5555555555555556,
              "#d8576b"
             ],
             [
              0.6666666666666666,
              "#ed7953"
             ],
             [
              0.7777777777777778,
              "#fb9f3a"
             ],
             [
              0.8888888888888888,
              "#fdca26"
             ],
             [
              1,
              "#f0f921"
             ]
            ],
            "type": "contour"
           }
          ],
          "contourcarpet": [
           {
            "colorbar": {
             "outlinewidth": 0,
             "ticks": ""
            },
            "type": "contourcarpet"
           }
          ],
          "heatmap": [
           {
            "colorbar": {
             "outlinewidth": 0,
             "ticks": ""
            },
            "colorscale": [
             [
              0,
              "#0d0887"
             ],
             [
              0.1111111111111111,
              "#46039f"
             ],
             [
              0.2222222222222222,
              "#7201a8"
             ],
             [
              0.3333333333333333,
              "#9c179e"
             ],
             [
              0.4444444444444444,
              "#bd3786"
             ],
             [
              0.5555555555555556,
              "#d8576b"
             ],
             [
              0.6666666666666666,
              "#ed7953"
             ],
             [
              0.7777777777777778,
              "#fb9f3a"
             ],
             [
              0.8888888888888888,
              "#fdca26"
             ],
             [
              1,
              "#f0f921"
             ]
            ],
            "type": "heatmap"
           }
          ],
          "heatmapgl": [
           {
            "colorbar": {
             "outlinewidth": 0,
             "ticks": ""
            },
            "colorscale": [
             [
              0,
              "#0d0887"
             ],
             [
              0.1111111111111111,
              "#46039f"
             ],
             [
              0.2222222222222222,
              "#7201a8"
             ],
             [
              0.3333333333333333,
              "#9c179e"
             ],
             [
              0.4444444444444444,
              "#bd3786"
             ],
             [
              0.5555555555555556,
              "#d8576b"
             ],
             [
              0.6666666666666666,
              "#ed7953"
             ],
             [
              0.7777777777777778,
              "#fb9f3a"
             ],
             [
              0.8888888888888888,
              "#fdca26"
             ],
             [
              1,
              "#f0f921"
             ]
            ],
            "type": "heatmapgl"
           }
          ],
          "histogram": [
           {
            "marker": {
             "pattern": {
              "fillmode": "overlay",
              "size": 10,
              "solidity": 0.2
             }
            },
            "type": "histogram"
           }
          ],
          "histogram2d": [
           {
            "colorbar": {
             "outlinewidth": 0,
             "ticks": ""
            },
            "colorscale": [
             [
              0,
              "#0d0887"
             ],
             [
              0.1111111111111111,
              "#46039f"
             ],
             [
              0.2222222222222222,
              "#7201a8"
             ],
             [
              0.3333333333333333,
              "#9c179e"
             ],
             [
              0.4444444444444444,
              "#bd3786"
             ],
             [
              0.5555555555555556,
              "#d8576b"
             ],
             [
              0.6666666666666666,
              "#ed7953"
             ],
             [
              0.7777777777777778,
              "#fb9f3a"
             ],
             [
              0.8888888888888888,
              "#fdca26"
             ],
             [
              1,
              "#f0f921"
             ]
            ],
            "type": "histogram2d"
           }
          ],
          "histogram2dcontour": [
           {
            "colorbar": {
             "outlinewidth": 0,
             "ticks": ""
            },
            "colorscale": [
             [
              0,
              "#0d0887"
             ],
             [
              0.1111111111111111,
              "#46039f"
             ],
             [
              0.2222222222222222,
              "#7201a8"
             ],
             [
              0.3333333333333333,
              "#9c179e"
             ],
             [
              0.4444444444444444,
              "#bd3786"
             ],
             [
              0.5555555555555556,
              "#d8576b"
             ],
             [
              0.6666666666666666,
              "#ed7953"
             ],
             [
              0.7777777777777778,
              "#fb9f3a"
             ],
             [
              0.8888888888888888,
              "#fdca26"
             ],
             [
              1,
              "#f0f921"
             ]
            ],
            "type": "histogram2dcontour"
           }
          ],
          "mesh3d": [
           {
            "colorbar": {
             "outlinewidth": 0,
             "ticks": ""
            },
            "type": "mesh3d"
           }
          ],
          "parcoords": [
           {
            "line": {
             "colorbar": {
              "outlinewidth": 0,
              "ticks": ""
             }
            },
            "type": "parcoords"
           }
          ],
          "pie": [
           {
            "automargin": true,
            "type": "pie"
           }
          ],
          "scatter": [
           {
            "fillpattern": {
             "fillmode": "overlay",
             "size": 10,
             "solidity": 0.2
            },
            "type": "scatter"
           }
          ],
          "scatter3d": [
           {
            "line": {
             "colorbar": {
              "outlinewidth": 0,
              "ticks": ""
             }
            },
            "marker": {
             "colorbar": {
              "outlinewidth": 0,
              "ticks": ""
             }
            },
            "type": "scatter3d"
           }
          ],
          "scattercarpet": [
           {
            "marker": {
             "colorbar": {
              "outlinewidth": 0,
              "ticks": ""
             }
            },
            "type": "scattercarpet"
           }
          ],
          "scattergeo": [
           {
            "marker": {
             "colorbar": {
              "outlinewidth": 0,
              "ticks": ""
             }
            },
            "type": "scattergeo"
           }
          ],
          "scattergl": [
           {
            "marker": {
             "colorbar": {
              "outlinewidth": 0,
              "ticks": ""
             }
            },
            "type": "scattergl"
           }
          ],
          "scattermapbox": [
           {
            "marker": {
             "colorbar": {
              "outlinewidth": 0,
              "ticks": ""
             }
            },
            "type": "scattermapbox"
           }
          ],
          "scatterpolar": [
           {
            "marker": {
             "colorbar": {
              "outlinewidth": 0,
              "ticks": ""
             }
            },
            "type": "scatterpolar"
           }
          ],
          "scatterpolargl": [
           {
            "marker": {
             "colorbar": {
              "outlinewidth": 0,
              "ticks": ""
             }
            },
            "type": "scatterpolargl"
           }
          ],
          "scatterternary": [
           {
            "marker": {
             "colorbar": {
              "outlinewidth": 0,
              "ticks": ""
             }
            },
            "type": "scatterternary"
           }
          ],
          "surface": [
           {
            "colorbar": {
             "outlinewidth": 0,
             "ticks": ""
            },
            "colorscale": [
             [
              0,
              "#0d0887"
             ],
             [
              0.1111111111111111,
              "#46039f"
             ],
             [
              0.2222222222222222,
              "#7201a8"
             ],
             [
              0.3333333333333333,
              "#9c179e"
             ],
             [
              0.4444444444444444,
              "#bd3786"
             ],
             [
              0.5555555555555556,
              "#d8576b"
             ],
             [
              0.6666666666666666,
              "#ed7953"
             ],
             [
              0.7777777777777778,
              "#fb9f3a"
             ],
             [
              0.8888888888888888,
              "#fdca26"
             ],
             [
              1,
              "#f0f921"
             ]
            ],
            "type": "surface"
           }
          ],
          "table": [
           {
            "cells": {
             "fill": {
              "color": "#EBF0F8"
             },
             "line": {
              "color": "white"
             }
            },
            "header": {
             "fill": {
              "color": "#C8D4E3"
             },
             "line": {
              "color": "white"
             }
            },
            "type": "table"
           }
          ]
         },
         "layout": {
          "annotationdefaults": {
           "arrowcolor": "#2a3f5f",
           "arrowhead": 0,
           "arrowwidth": 1
          },
          "autotypenumbers": "strict",
          "coloraxis": {
           "colorbar": {
            "outlinewidth": 0,
            "ticks": ""
           }
          },
          "colorscale": {
           "diverging": [
            [
             0,
             "#8e0152"
            ],
            [
             0.1,
             "#c51b7d"
            ],
            [
             0.2,
             "#de77ae"
            ],
            [
             0.3,
             "#f1b6da"
            ],
            [
             0.4,
             "#fde0ef"
            ],
            [
             0.5,
             "#f7f7f7"
            ],
            [
             0.6,
             "#e6f5d0"
            ],
            [
             0.7,
             "#b8e186"
            ],
            [
             0.8,
             "#7fbc41"
            ],
            [
             0.9,
             "#4d9221"
            ],
            [
             1,
             "#276419"
            ]
           ],
           "sequential": [
            [
             0,
             "#0d0887"
            ],
            [
             0.1111111111111111,
             "#46039f"
            ],
            [
             0.2222222222222222,
             "#7201a8"
            ],
            [
             0.3333333333333333,
             "#9c179e"
            ],
            [
             0.4444444444444444,
             "#bd3786"
            ],
            [
             0.5555555555555556,
             "#d8576b"
            ],
            [
             0.6666666666666666,
             "#ed7953"
            ],
            [
             0.7777777777777778,
             "#fb9f3a"
            ],
            [
             0.8888888888888888,
             "#fdca26"
            ],
            [
             1,
             "#f0f921"
            ]
           ],
           "sequentialminus": [
            [
             0,
             "#0d0887"
            ],
            [
             0.1111111111111111,
             "#46039f"
            ],
            [
             0.2222222222222222,
             "#7201a8"
            ],
            [
             0.3333333333333333,
             "#9c179e"
            ],
            [
             0.4444444444444444,
             "#bd3786"
            ],
            [
             0.5555555555555556,
             "#d8576b"
            ],
            [
             0.6666666666666666,
             "#ed7953"
            ],
            [
             0.7777777777777778,
             "#fb9f3a"
            ],
            [
             0.8888888888888888,
             "#fdca26"
            ],
            [
             1,
             "#f0f921"
            ]
           ]
          },
          "colorway": [
           "#636efa",
           "#EF553B",
           "#00cc96",
           "#ab63fa",
           "#FFA15A",
           "#19d3f3",
           "#FF6692",
           "#B6E880",
           "#FF97FF",
           "#FECB52"
          ],
          "font": {
           "color": "#2a3f5f"
          },
          "geo": {
           "bgcolor": "white",
           "lakecolor": "white",
           "landcolor": "#E5ECF6",
           "showlakes": true,
           "showland": true,
           "subunitcolor": "white"
          },
          "hoverlabel": {
           "align": "left"
          },
          "hovermode": "closest",
          "mapbox": {
           "style": "light"
          },
          "paper_bgcolor": "white",
          "plot_bgcolor": "#E5ECF6",
          "polar": {
           "angularaxis": {
            "gridcolor": "white",
            "linecolor": "white",
            "ticks": ""
           },
           "bgcolor": "#E5ECF6",
           "radialaxis": {
            "gridcolor": "white",
            "linecolor": "white",
            "ticks": ""
           }
          },
          "scene": {
           "xaxis": {
            "backgroundcolor": "#E5ECF6",
            "gridcolor": "white",
            "gridwidth": 2,
            "linecolor": "white",
            "showbackground": true,
            "ticks": "",
            "zerolinecolor": "white"
           },
           "yaxis": {
            "backgroundcolor": "#E5ECF6",
            "gridcolor": "white",
            "gridwidth": 2,
            "linecolor": "white",
            "showbackground": true,
            "ticks": "",
            "zerolinecolor": "white"
           },
           "zaxis": {
            "backgroundcolor": "#E5ECF6",
            "gridcolor": "white",
            "gridwidth": 2,
            "linecolor": "white",
            "showbackground": true,
            "ticks": "",
            "zerolinecolor": "white"
           }
          },
          "shapedefaults": {
           "line": {
            "color": "#2a3f5f"
           }
          },
          "ternary": {
           "aaxis": {
            "gridcolor": "white",
            "linecolor": "white",
            "ticks": ""
           },
           "baxis": {
            "gridcolor": "white",
            "linecolor": "white",
            "ticks": ""
           },
           "bgcolor": "#E5ECF6",
           "caxis": {
            "gridcolor": "white",
            "linecolor": "white",
            "ticks": ""
           }
          },
          "title": {
           "x": 0.05
          },
          "xaxis": {
           "automargin": true,
           "gridcolor": "white",
           "linecolor": "white",
           "ticks": "",
           "title": {
            "standoff": 15
           },
           "zerolinecolor": "white",
           "zerolinewidth": 2
          },
          "yaxis": {
           "automargin": true,
           "gridcolor": "white",
           "linecolor": "white",
           "ticks": "",
           "title": {
            "standoff": 15
           },
           "zerolinecolor": "white",
           "zerolinewidth": 2
          }
         }
        },
        "title": {
         "text": "Bar Chart "
        },
        "width": 800,
        "xaxis": {
         "title": {
          "text": "Wekk"
         }
        },
        "yaxis": {
         "title": {
          "text": "Deliverable Quantity"
         }
        }
       }
      }
     },
     "metadata": {},
     "output_type": "display_data"
    }
   ],
   "source": [
    "fig = go.Figure(data=[go.Bar(x=x, y=y)])\n",
    "\n",
    "\n",
    "fig.update_layout(\n",
    "    title='Bar Chart ',\n",
    "    xaxis_title='Wekk',\n",
    "    yaxis_title='Deliverable Quantity',\n",
    "    template='plotly',\n",
    "    width=800\n",
    ")\n",
    "\n",
    "pio.show(fig)"
   ]
  },
  {
   "cell_type": "markdown",
   "metadata": {},
   "source": []
  }
 ],
 "metadata": {
  "kernelspec": {
   "display_name": "Python 3",
   "language": "python",
   "name": "python3"
  },
  "language_info": {
   "codemirror_mode": {
    "name": "ipython",
    "version": 3
   },
   "file_extension": ".py",
   "mimetype": "text/x-python",
   "name": "python",
   "nbconvert_exporter": "python",
   "pygments_lexer": "ipython3",
   "version": "3.11.8"
  }
 },
 "nbformat": 4,
 "nbformat_minor": 2
}
